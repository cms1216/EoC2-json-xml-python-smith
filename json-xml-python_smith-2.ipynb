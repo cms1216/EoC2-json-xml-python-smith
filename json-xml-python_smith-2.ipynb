{
 "cells": [
  {
   "cell_type": "markdown",
   "metadata": {},
   "source": [
    "# CSE-10102-01\n",
    "\n",
    "## Elements of Computing II\n",
    "\n",
    "Student Name: **Connor Smith**\n",
    "<br>\n",
    "Net ID: **csmith77**\n",
    "<br>\n",
    "Title: **json xml Python**"
   ]
  },
  {
   "cell_type": "markdown",
   "metadata": {},
   "source": [
    "**Q1: Decipher what we're seeing in the JSON here. What are the name/value pairs, and how are they organized in this object?**"
   ]
  },
  {
   "cell_type": "markdown",
   "metadata": {},
   "source": [
    "<blockquote>AnswerQ1. When reading the data provided in the exaplme twitter API JSON file, I am able to decipher the different points of data such as time created, tweet ID, tweet content, User name, User screen name, and many others. I really enjoy this version of organixation where the file has the key for the data point on the left of the colon, the information on the right, and each point on a different line. This allows it to be easily read and understood by someone who has never even see nevertheless written JSON code.</blockquote>"
   ]
  },
  {
   "cell_type": "markdown",
   "metadata": {},
   "source": [
    "**Q2: Describe the structure of this XML document in your own words.**"
   ]
  },
  {
   "cell_type": "markdown",
   "metadata": {},
   "source": [
    "<blockquote>AnswerQ2. When reading the data provided in the exaplme from the lab line 65, I am able to decipher the different points of data and actaully reall enjoy the way that the code is written. Similar to the way that HTML is coded, I like the idea that each point is opened with the key for the data point inside the greaterthan/lessthan sign, and ending with the same thing with a slash before the key, and the information for that key between the starter and ender.</blockquote>"
   ]
  },
  {
   "cell_type": "markdown",
   "metadata": {},
   "source": [
    "**Q3: Write a similar dictionary for the <code>book.xml</code> file contained in this repo and generate some output. Include code + comments. Explain how your program works in your own words.**"
   ]
  },
  {
   "cell_type": "code",
   "execution_count": 1,
   "metadata": {},
   "outputs": [
    {
     "name": "stdout",
     "output_type": "stream",
     "text": [
      "book.xml list: \n",
      "\tHTML and XHTML: The Definitive Guide (2006)\n",
      "\tCSS: The Definitive Guide (2007)\n",
      "\tLearning XML (2003)\n"
     ]
    }
   ],
   "source": [
    "# Print the title of the list that I am making\n",
    "print(\"book.xml list: \")\n",
    "\n",
    "#Defining the dictionary to write the xml data to\n",
    "books = {\n",
    "  # Entering in the data for each book where the title is first, then the date, then the author(s) name(s)\n",
    "  'HTML and XHTML: The Definitive Guide': {\n",
    "    'date': '2006',\n",
    "    'author': 'Bill Kennedy',\n",
    "    'co-author': 'Chuck Musciano'\n",
    "    },\n",
    "  'CSS: The Definitive Guide': {\n",
    "    'date': '2007', \n",
    "    'author': 'Eric Meyer'\n",
    "    },\n",
    "  'Learning XML': {\n",
    "    'date': '2003',\n",
    "    'author': 'Erik Ray'\n",
    "    }\n",
    "}\n",
    "\n",
    "#Run through each of the items inside the books dictionary\n",
    "for book, book_info in books.items():\n",
    "  #Definde the full title of the book\n",
    "  full_title = str(book) + \" (\" + str(book_info['date']) + \")\"\n",
    "  #Print the full titels/information of the books in a list where each point is on a different line\n",
    "  print(\"\\t\" + full_title)"
   ]
  },
  {
   "cell_type": "markdown",
   "metadata": {},
   "source": [
    "**Q4: What do you expect this program out output? Why? Explain how this code works in your own words.**"
   ]
  },
  {
   "cell_type": "markdown",
   "metadata": {},
   "source": [
    "<blockquote>AnswerQ4. After running this code, I explected partially what was outputted where the information in the xml file is printed in a list because of the for loop. But, I really expected for them to be printed with the date. I am not really sure why that data point didn't print dispite the fact that it was defined in the for loop to be a part of the data. To me, the way this code works is that the code imports the xml.etree as variable ET and defines the tree variable as the desired xml file and the root as tree.getroot(). The the code runs a for loop that parses the data inside the xml and defines what each point of data is in relation to title and date. Finally, the code prints the information extracted from the xml in a list.</blockquote>"
   ]
  },
  {
   "cell_type": "markdown",
   "metadata": {},
   "source": [
    "**Q5: Write a similar program for the .xml file that you created in the last exercise. Pull data from at least two elements. Copy your code and your output in your notebook and explain what your code does (or is attempting to do).**"
   ]
  },
  {
   "cell_type": "code",
   "execution_count": 18,
   "metadata": {},
   "outputs": [
    {
     "name": "stdout",
     "output_type": "stream",
     "text": [
      "Inception - 2010\n",
      "Knives Out - 2019\n",
      "Onward - 2020\n"
     ]
    }
   ],
   "source": [
    "import xml.etree.cElementTree as ET\n",
    "tree = ET.parse('movies.xml')\n",
    "root = tree.getroot()\n",
    "\n",
    "for movie in root.findall('movie'):\n",
    "  title = movie.find('title').text\n",
    "  movie = movie.find('year').text\n",
    "  \n",
    "  print(title + ' - ' + movie)"
   ]
  },
  {
   "cell_type": "markdown",
   "metadata": {},
   "source": [
    "<blockquote>AnswerQ5. In this code, the program is extracting the data from the xml file I have created called \"movies.xml\". It finds the title of the movies I inputted and prints them out in a list followed by a dash and then the year they were released.</blockquote>"
   ]
  },
  {
   "cell_type": "markdown",
   "metadata": {},
   "source": [
    "**Q6: Create a small XML structure and write it to an XML file.**"
   ]
  },
  {
   "cell_type": "code",
   "execution_count": 20,
   "metadata": {},
   "outputs": [],
   "source": [
    "# import components of Element Tree package\n",
    "import xml.etree.ElementTree as ET\n",
    "\n",
    "# assign the overall element group \n",
    "root = ET.Element('TV Shows')\n",
    "\n",
    "# assign what each elements is\n",
    "items = ET.SubElement(root, 'Show')\n",
    "\n",
    "# assign the way each element premiered for each item\n",
    "item1 = ET.SubElement(items, 'Stream')\n",
    "item2 = ET.SubElement(items, 'On-Air')\n",
    "item3 = ET.SubElement(items, 'Stream')\n",
    "\n",
    "# assign where eash element premiered and what type of show it is\n",
    "item1.set('Disney+', 'Action')\n",
    "item2.set('HBO', 'Fantasy')\n",
    "item3.set('AmazonVideo', 'Action')\n",
    "\n",
    "# assign the name of the show to the element\n",
    "item1.text = 'WandaVision'\n",
    "item2.text = 'Game of Thrones'\n",
    "item3.text = 'The Boys'\n",
    "\n",
    "# pass XML document to a string\n",
    "myData = ET.tostring(root)\n",
    "\n",
    "# create and name the new XML file\n",
    "myFile = open('shows.xml', 'wb')\n",
    "\n",
    "# write XML string to file\n",
    "myFile.write(myData)\n",
    "\n",
    "#close file\n",
    "myFile.close()"
   ]
  },
  {
   "cell_type": "markdown",
   "metadata": {},
   "source": [
    "**JSON Project Prompt**"
   ]
  },
  {
   "cell_type": "markdown",
   "metadata": {},
   "source": [
    "When I open the JSON file in a text editor, the first bunch of lines make a lot of sense and are easily decifered but as I continue to read down the information gets increasingly harder to read as the lines get much larger and much more complex."
   ]
  },
  {
   "cell_type": "code",
   "execution_count": 29,
   "metadata": {},
   "outputs": [
    {
     "ename": "KeyError",
     "evalue": "'id'",
     "output_type": "error",
     "traceback": [
      "\u001b[0;31m---------------------------------------------------------------------------\u001b[0m",
      "\u001b[0;31mKeyError\u001b[0m                                  Traceback (most recent call last)",
      "\u001b[0;32m<ipython-input-29-91a51b7fbee8>\u001b[0m in \u001b[0;36m<module>\u001b[0;34m\u001b[0m\n\u001b[1;32m     10\u001b[0m \u001b[0;31m# Iterating through the json\u001b[0m\u001b[0;34m\u001b[0m\u001b[0;34m\u001b[0m\u001b[0;34m\u001b[0m\u001b[0m\n\u001b[1;32m     11\u001b[0m \u001b[0;31m# list\u001b[0m\u001b[0;34m\u001b[0m\u001b[0;34m\u001b[0m\u001b[0;34m\u001b[0m\u001b[0m\n\u001b[0;32m---> 12\u001b[0;31m \u001b[0;32mfor\u001b[0m \u001b[0mi\u001b[0m \u001b[0;32min\u001b[0m \u001b[0mdata\u001b[0m\u001b[0;34m[\u001b[0m\u001b[0;34m'id'\u001b[0m\u001b[0;34m]\u001b[0m\u001b[0;34m:\u001b[0m\u001b[0;34m\u001b[0m\u001b[0;34m\u001b[0m\u001b[0m\n\u001b[0m\u001b[1;32m     13\u001b[0m     \u001b[0mprint\u001b[0m\u001b[0;34m(\u001b[0m\u001b[0mi\u001b[0m\u001b[0;34m)\u001b[0m\u001b[0;34m\u001b[0m\u001b[0;34m\u001b[0m\u001b[0m\n\u001b[1;32m     14\u001b[0m \u001b[0;34m\u001b[0m\u001b[0m\n",
      "\u001b[0;31mKeyError\u001b[0m: 'id'"
     ]
    }
   ],
   "source": [
    "import json \n",
    "  \n",
    "# Opening JSON file \n",
    "f = open('Jazz Houses_data.json',) \n",
    "  \n",
    "# returns JSON object as  \n",
    "# a dictionary \n",
    "data = json.load(f) \n",
    "  \n",
    "# Iterating through the json \n",
    "# list \n",
    "for i in data['id']: \n",
    "    print(i) \n",
    "  \n",
    "# Closing file \n",
    "f.close() "
   ]
  },
  {
   "cell_type": "markdown",
   "metadata": {},
   "source": [
    "**XML Problem Prompt**"
   ]
  },
  {
   "cell_type": "markdown",
   "metadata": {},
   "source": [
    "When opening the xml file I am able to read but really dont understand what I am reading. There is so much meta-data it just makes no sense."
   ]
  },
  {
   "cell_type": "code",
   "execution_count": 30,
   "metadata": {},
   "outputs": [],
   "source": [
    "import xml.etree.cElementTree as ET\n",
    "tree = ET.parse('recording_studio_list.xml')\n",
    "root = tree.getroot()\n",
    "\n",
    "for book in root.findall('cell'):\n",
    "  title = book.find('cell').text\n",
    "  date = book.find('cell').text\n",
    "  \n",
    "  print(title)"
   ]
  }
 ],
 "metadata": {
  "kernelspec": {
   "display_name": "Python 3",
   "language": "python",
   "name": "python3"
  },
  "language_info": {
   "codemirror_mode": {
    "name": "ipython",
    "version": 3
   },
   "file_extension": ".py",
   "mimetype": "text/x-python",
   "name": "python",
   "nbconvert_exporter": "python",
   "pygments_lexer": "ipython3",
   "version": "3.8.5"
  },
  "widgets": {
   "application/vnd.jupyter.widget-state+json": {
    "state": {},
    "version_major": 2,
    "version_minor": 0
   }
  }
 },
 "nbformat": 4,
 "nbformat_minor": 5
}
